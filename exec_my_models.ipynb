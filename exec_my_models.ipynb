{
 "cells": [
  {
   "cell_type": "code",
   "execution_count": null,
   "metadata": {},
   "outputs": [],
   "source": [
    "from model.model_02ei import DistNN as DNNEI\n",
    "from util.input_data import Dataset\n",
    "import util.trainer as tr\n",
    "from main import exec_model_until_success\n",
    "\n",
    "dataset = Dataset()\n",
    "\n",
    "#scale = 'metal_FFF'\n",
    "scale = 'metal_TTT'\n",
    "#scale = 'metal_TFF'\n",
    "#scale = 'metal_TTT'\n",
    "\n",
    "dataset.load_dataset(f'c:/WORKSPACE_KRICT/DATA/data_snu/inputdata_{scale}.pickle', True)\n",
    "mtyp='EI'\n",
    "mobj=DNNEI\n",
    "mr = 1\n",
    "\n",
    "exec_model_until_success(kmax=10, scale=scale, model_type=f'M02_{mtyp}', dataset=dataset, mobj=mobj, tr=tr, comment=f'L1_M{mr}', metal_ratio=mr, batch_size=256, num_epochs=200)\n"
   ]
  },
  {
   "cell_type": "code",
   "execution_count": null,
   "metadata": {},
   "outputs": [],
   "source": [
    "from model.model_02ai import DistNN as DNNAI\n",
    "from model.model_02ei import DistNN as DNNEI\n",
    "from util.input_data import Dataset\n",
    "import util.trainer_log as tr\n",
    "from main import exec_model_until_success\n",
    "\n",
    "dataset = Dataset()\n",
    "\n",
    "for scale in ['metal_FTT','metal_TTT']:\n",
    "    dataset.load_dataset(f'c:/WORKSPACE_KRICT/DATA/data_snu/inputdata_{scale}.pickle', True)\n",
    "    for mtyp, mobj in dict(AI=DNNAI, EI=DNNEI).items():\n",
    "        if 'A' in mtyp and 'FTT' in scale:\n",
    "            continue\n",
    "        for mr in [0, 0.2, 0.4, 0.6, 1]:\n",
    "            exec_model_until_success(kmax=10, scale=scale, model_type=f'M02_{mtyp}', \\\n",
    "                                dataset=dataset, mobj=mobj, tr=tr, comment=f'L1log_M{mr}',\\\n",
    "                                metal_ratio=mr, batch_size=256, num_epochs=200)\n"
   ]
  },
  {
   "cell_type": "code",
   "execution_count": 4,
   "metadata": {},
   "outputs": [],
   "source": [
    "from model.model_01r import DistNN\n",
    "from util.input_data import Dataset\n",
    "import util.trainer as tr\n",
    "from main import exec_model, exec_model_until_success\n",
    "\n",
    "dataset = Dataset()\n",
    "\n",
    "#for scale in ['metal_FTT','metal_TTT']:\n",
    "scale = 'metal_TTT'\n",
    "dataset.load_dataset(f'c:/WORKSPACE_KRICT/DATA/data_snu/inputdata_{scale}.pickle', True)\n",
    "for mr in [0.2, 0.4, 0.6, 1]:\n",
    "    exec_model_until_success(kmax=10, scale=scale, model_type=f'M01R', \\\n",
    "                        dataset=dataset, mobj=DistNN, tr=tr, comment=f'L1_M{mr}', \\\n",
    "                        metal_ratio=mr, batch_size=256, num_epochs=200)\n",
    "\n"
   ]
  },
  {
   "cell_type": "code",
   "execution_count": 15,
   "metadata": {},
   "outputs": [
    {
     "data": {
      "text/plain": [
       "(array([2.50062436, 2.28714345, 2.09570558, 2.05471203, 0.99237803,\n",
       "        0.23070786, 1.52672077, 2.65006096, 1.71726906, 0.63948676]),\n",
       " array([-3.68463872, -3.77350381, -3.86051958, -3.88017942, -4.60279498,\n",
       "        -6.02934148, -4.17551941, -3.62682115, -4.0586286 , -5.03674301]),\n",
       " array([2.50062436, 2.28714345, 2.09570558, 2.05471203, 0.99237803,\n",
       "        0.23070786, 1.52672077, 2.65006096, 1.71726906, 0.63948676]))"
      ]
     },
     "execution_count": 15,
     "metadata": {},
     "output_type": "execute_result"
    }
   ],
   "source": [
    "from model.model_02ai import DistNN as DNNAI\n",
    "from model.model_02ei import DistNN as DNNEI\n",
    "from util.input_data import Dataset\n",
    "import util.trainer_log as tr\n",
    "from main import exec_model_until_success\n",
    "\n",
    "dataset = Dataset()\n",
    "\n",
    "for scale in ['metal_FFF','metal_FTT','metal_TFF','metal_TTT']:\n",
    "    if 'TTT' not in scale: continue\n",
    "    dataset.load_dataset(f'c:/WORKSPACE_KRICT/DATA/data_snu/inputdata_{scale}.pickle', True)\n",
    "    for mtyp, mobj in dict(AI=DNNAI, EI=DNNEI).items():\n",
    "        if 'A' in mtyp: continue\n",
    "        for mr in [0.0, 0.2, 0.4, 0.6, 1.0]:\n",
    "            if mr < 0.3: continue\n",
    "            exec_model_until_success(kmax=10, scale=scale, model_type=f'M02Mix_{mtyp}', \\\n",
    "                                dataset=dataset, mobj=mobj, tr=tr, comment=f'L1+L1log_M{mr}',\\\n",
    "                                metal_ratio=mr, batch_size=256, num_epochs=200)\n"
   ]
  },
  {
   "cell_type": "code",
   "execution_count": null,
   "metadata": {},
   "outputs": [],
   "source": [
    "from model.model_04g import DistNN\n",
    "from util.input_data import Dataset\n",
    "from main import exec_model_until_success\n",
    "import util.trainer_graph as tr\n",
    "\n",
    "dataset = Dataset()\n",
    "\n",
    "for scale in ['metal_TTT','metal_FFF','metal_FTT','metal_TFF']:\n",
    "    dataset.load_dataset(f'c:/WORKSPACE_KRICT/DATA/data_snu/inputdata_{scale}.pickle', True)\n",
    "    for mr in [0.0, 0.01, 0.025, 0.05, 0.1, 0.2]:\n",
    "        if 'FFF' in scale and (mr < 0.01 or mr > 0.1):\n",
    "            continue\n",
    "        elif ('FTT' in scale or 'TFF' in scale) and (mr < 0.01 or mr > 0.1) :\n",
    "            continue\n",
    "        elif 'TTT' in scale and mr == 0.0:\n",
    "            continue\n",
    "        exec_model_until_success(kmax=10, scale=scale, model_type=f'M04L1', \\\n",
    "                        dataset=dataset, mobj=DistNN, tr=tr, comment=f'M{mr}',\\\n",
    "                        metal_ratio=mr, batch_size=256, num_epochs=200)\n",
    "\n"
   ]
  },
  {
   "cell_type": "code",
   "execution_count": 10,
   "metadata": {},
   "outputs": [
    {
     "name": "stdout",
     "output_type": "stream",
     "text": [
      "100% of metal data used - 1 metal with 8 insulator (11%)\n",
      "d:/MODELS/202204/nmre\\TEST\\subset_03_test\n",
      "Epoch [1/5]\tTrain / Valid Loss: 2.8490 / 3.4222\tMAE: 2.8490 / 3.4222 (0.2 sec)\n",
      "Epoch [2/5]\tTrain / Valid Loss: 2.7816 / 3.3144\tMAE: 2.7816 / 3.3144 (0.0 sec)\n",
      "Epoch [3/5]\tTrain / Valid Loss: 2.7043 / 3.1775\tMAE: 2.7043 / 3.1775 (0.0 sec)\n",
      "Epoch [4/5]\tTrain / Valid Loss: 2.5990 / 2.9790\tMAE: 2.5990 / 2.9790 (0.0 sec)\n",
      "Epoch [5/5]\tTrain / Valid Loss: 2.4471 / 2.6974\tMAE: 2.4471 / 2.6974 (0.0 sec)\n"
     ]
    }
   ],
   "source": [
    "from model.model_04g import DistNN\n",
    "from util.input_data import Dataset\n",
    "from main import exec_model_until_success\n",
    "import util.trainer_graph as tr\n",
    "\n",
    "dataset = Dataset()\n",
    "\n",
    "dataset.load_dataset(f'c:/WORKSPACE_KRICT/DATA/data_snu/inputdata_subset.pickle', True)\n",
    "exec_model_until_success(kmax=10, scale='subset', model_type=f'TEST', \\\n",
    "                        dataset=dataset, mobj=DistNN, tr=tr, comment=f'test',\\\n",
    "                        metal_ratio=1, batch_size=15, num_epochs=5)\n",
    "\n"
   ]
  },
  {
   "cell_type": "code",
   "execution_count": 2,
   "metadata": {},
   "outputs": [
    {
     "ename": "NameError",
     "evalue": "name 'dataset' is not defined",
     "output_type": "error",
     "traceback": [
      "\u001b[1;31m---------------------------------------------------------------------------\u001b[0m",
      "\u001b[1;31mNameError\u001b[0m                                 Traceback (most recent call last)",
      "\u001b[1;32mc:\\WORKSPACE_KRICT\\CODES\\band_gap_model\\new_model.metal\\exec_my_models.ipynb Cell 7'\u001b[0m in \u001b[0;36m<cell line: 1>\u001b[1;34m()\u001b[0m\n\u001b[1;32m----> <a href='vscode-notebook-cell:/c%3A/WORKSPACE_KRICT/CODES/band_gap_model/new_model.metal/exec_my_models.ipynb#ch0000006?line=0'>1</a>\u001b[0m dataset\u001b[39m.\u001b[39mcrystal[\u001b[39m0\u001b[39m]\u001b[39m.\u001b[39mgap_gga\n",
      "\u001b[1;31mNameError\u001b[0m: name 'dataset' is not defined"
     ]
    }
   ],
   "source": []
  }
 ],
 "metadata": {
  "interpreter": {
   "hash": "cfb2e760b55082f7e18274ad9b6beeb89af4df0a5c88a9ce379e413b137aeb47"
  },
  "kernelspec": {
   "display_name": "Python 3.8.12 ('ex01')",
   "language": "python",
   "name": "python3"
  },
  "language_info": {
   "codemirror_mode": {
    "name": "ipython",
    "version": 3
   },
   "file_extension": ".py",
   "mimetype": "text/x-python",
   "name": "python",
   "nbconvert_exporter": "python",
   "pygments_lexer": "ipython3",
   "version": "3.8.12"
  },
  "orig_nbformat": 4
 },
 "nbformat": 4,
 "nbformat_minor": 2
}
