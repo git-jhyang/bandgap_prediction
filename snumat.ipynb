{
 "cells": [
  {
   "cell_type": "code",
   "execution_count": 12,
   "metadata": {},
   "outputs": [],
   "source": [
    "import requests\n",
    "\n",
    "def get_header():\n",
    "    secret_key = '1b2bab67fab7d43870-9c94c3387eab37aa0e-755edd5d46676cc4ce-686e5949e7b4874932'\n",
    "    public_key = '34ae29f59b062e5738-4ea0d9f0f28dbe28bd-6f0583e6f8daa1c305-5a6432cf514d01af91'\n",
    "\n",
    "\n",
    "    r = requests.post('https://api.snumat.com/user/auth/token', \n",
    "                    json = {\n",
    "                        \"public\": public_key,\n",
    "                \t    \"secret\": secret_key,\n",
    "                \t    \"region\": \"SNUMAT-KR-1\",\n",
    "                \t    \"auth_uri\": \"https://account.snumat.com/o/oauth2/auth\",\n",
    "                \t    \"token_uri\": \"https://api.snumat.com/auth/token/verify\",\n",
    "                \t    \"version\": \"v0.3\"\n",
    "                    }\n",
    "    )\n",
    "    r = r.json()\n",
    "    return {'Authorization':r'{} {}'.format(r['type'], r['access_token']), 'Content-type':'application/json'}"
   ]
  },
  {
   "cell_type": "code",
   "execution_count": 32,
   "metadata": {},
   "outputs": [],
   "source": [
    "url_q = 'https://api.snumat.com/material/search/query'\n",
    "url_i = 'https://api.snumat.com/material/search/id'\n",
    "header = get_header()\n",
    "query = {\n",
    "    \"fields\" : {\n",
    "        \"include\":['O'],\n",
    "        \"nelement\" : 2\n",
    "        },\n",
    "        \"properties\" : [],\n",
    "        \"offset\" : 0,\n",
    "        \"number\" : 1000\n",
    "    }\n",
    "\n",
    "r = requests.post(url_q, json=query, headers=header)"
   ]
  },
  {
   "cell_type": "code",
   "execution_count": 34,
   "metadata": {},
   "outputs": [],
   "source": [
    "import os\n",
    "rid = requests.post(os.path.join(url_i, str(r.json()['list'][0]['id'])), headers=header)"
   ]
  },
  {
   "cell_type": "code",
   "execution_count": 38,
   "metadata": {},
   "outputs": [
    {
     "data": {
      "text/plain": [
       "{'code': 400, 'message': ''}"
      ]
     },
     "execution_count": 38,
     "metadata": {},
     "output_type": "execute_result"
    }
   ],
   "source": [
    "rid.json()"
   ]
  },
  {
   "cell_type": "code",
   "execution_count": 2,
   "metadata": {},
   "outputs": [],
   "source": [
    "query   = 'TITLE-ABS-KEY(mg battery electrolyte)'\n",
    "api_key = '7661d21d3d3663ff3eb8e458eb8e15e6'\n",
    "url     = 'https://api.elsevier.com/content/search/scopus?query={}&apikey={}&start=0&count=10'.format(query, api_key)\n",
    "\n",
    "r = requests.get(url)"
   ]
  },
  {
   "cell_type": "code",
   "execution_count": 3,
   "metadata": {},
   "outputs": [],
   "source": [
    "query   = 'mg battery electrolyte'\n",
    "api_key = 'd89628944f7734e9a2cc116801376509'\n",
    "url     = 'https://api.springernature.com/metadata/json?api_key={}&q={}&s=0&p=10'.format(api_key, query)\n",
    "\n",
    "r = requests.get(url)"
   ]
  }
 ],
 "metadata": {
  "interpreter": {
   "hash": "188a66e847818a634b37bec0a5db6f3592399257f0710012e16226026bdfbce3"
  },
  "kernelspec": {
   "display_name": "Python 3.9.7 ('ml_bg')",
   "language": "python",
   "name": "python3"
  },
  "language_info": {
   "codemirror_mode": {
    "name": "ipython",
    "version": 3
   },
   "file_extension": ".py",
   "mimetype": "text/x-python",
   "name": "python",
   "nbconvert_exporter": "python",
   "pygments_lexer": "ipython3",
   "version": "3.8.12"
  },
  "orig_nbformat": 4
 },
 "nbformat": 4,
 "nbformat_minor": 2
}
